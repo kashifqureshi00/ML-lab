{
 "cells": [
  {
   "cell_type": "markdown",
   "id": "dbaadd43",
   "metadata": {},
   "source": [
    "# Lab Task 1:\n",
    "\n",
    "Select only two categories:\n",
    "\n",
    "### Category 1: Healthy\n",
    "\n",
    "Use 120 images for training, 30 images for validation, and 12 images for testing.\n",
    "\n",
    "### Category 2: Unhealthy (combine the other three classes)\n",
    "\n",
    "From each of the three remaining classes, select:\n",
    "\n",
    "40 images for training,\n",
    "\n",
    "10 images for validation,\n",
    "\n",
    "4 images for testing.\n"
   ]
  },
  {
   "cell_type": "markdown",
   "id": "b470bec3",
   "metadata": {},
   "source": [
    "# Lab Task for lab practice:\n",
    "\n",
    "### Select two difficult classes:\n",
    "\n",
    "##### Class 1: Cercospora\n",
    "\n",
    "Use 120 images for training, 30 images for validation, and 10 images for testing.\n",
    "\n",
    "##### Class 2: Northern Leaf Blight\n",
    "\n",
    "Use 120 images for training, 30 images for validation, and 10 images for testing."
   ]
  },
  {
   "cell_type": "code",
   "execution_count": null,
   "id": "304f97fb",
   "metadata": {},
   "outputs": [],
   "source": [
    "import os, shutil\n",
    "original_dataset_dir = r'C:\\Users\\kingk\\Downloads\\archive (4)\\plantvillage dataset\\color'\n",
    "base_dir = r'C:\\Users\\kingk\\Downloads\\archive (4)\\Computer vision'\n"
   ]
  },
  {
   "cell_type": "code",
   "execution_count": 15,
   "id": "aca4b507",
   "metadata": {},
   "outputs": [
    {
     "data": {
      "text/plain": [
       "'C:\\\\Users\\\\abdurrehman\\\\Downloads\\\\archive (4)\\\\Computer vision\\\\train'"
      ]
     },
     "execution_count": 15,
     "metadata": {},
     "output_type": "execute_result"
    }
   ],
   "source": [
    "os.path.join(base_dir, 'train')"
   ]
  },
  {
   "cell_type": "code",
   "execution_count": 17,
   "id": "c14ecd6d-3c1e-41d6-a39f-ff6bd413f0ee",
   "metadata": {},
   "outputs": [],
   "source": [
    "os.makedirs(base_dir, exist_ok=True)\n"
   ]
  },
  {
   "cell_type": "code",
   "execution_count": 16,
   "id": "d029f21d",
   "metadata": {},
   "outputs": [
    {
     "ename": "FileExistsError",
     "evalue": "[WinError 183] Cannot create a file when that file already exists: 'C:\\\\Users\\\\abdurrehman\\\\Downloads\\\\archive (4)\\\\Computer vision'",
     "output_type": "error",
     "traceback": [
      "\u001b[1;31m---------------------------------------------------------------------------\u001b[0m",
      "\u001b[1;31mFileExistsError\u001b[0m                           Traceback (most recent call last)",
      "Cell \u001b[1;32mIn[16], line 1\u001b[0m\n\u001b[1;32m----> 1\u001b[0m os\u001b[38;5;241m.\u001b[39mmkdir(base_dir)\n\u001b[0;32m      2\u001b[0m train_dir \u001b[38;5;241m=\u001b[39m os\u001b[38;5;241m.\u001b[39mpath\u001b[38;5;241m.\u001b[39mjoin(base_dir, \u001b[38;5;124m'\u001b[39m\u001b[38;5;124mtrain\u001b[39m\u001b[38;5;124m'\u001b[39m)\n\u001b[0;32m      3\u001b[0m os\u001b[38;5;241m.\u001b[39mmkdir(train_dir)\n",
      "\u001b[1;31mFileExistsError\u001b[0m: [WinError 183] Cannot create a file when that file already exists: 'C:\\\\Users\\\\abdurrehman\\\\Downloads\\\\archive (4)\\\\Computer vision'"
     ]
    }
   ],
   "source": [
    "os.mkdir(base_dir)\n",
    "train_dir = os.path.join(base_dir, 'train')\n",
    "os.mkdir(train_dir)\n",
    "validation_dir = os.path.join(base_dir, 'validation')\n",
    "os.mkdir(validation_dir)\n",
    "test_dir = os.path.join(base_dir, 'test')\n",
    "os.mkdir(test_dir)"
   ]
  },
  {
   "cell_type": "code",
   "execution_count": 18,
   "id": "10c7130d",
   "metadata": {},
   "outputs": [
    {
     "ename": "NameError",
     "evalue": "name 'train_dir' is not defined",
     "output_type": "error",
     "traceback": [
      "\u001b[1;31m---------------------------------------------------------------------------\u001b[0m",
      "\u001b[1;31mNameError\u001b[0m                                 Traceback (most recent call last)",
      "Cell \u001b[1;32mIn[18], line 1\u001b[0m\n\u001b[1;32m----> 1\u001b[0m train_healthy_dir \u001b[38;5;241m=\u001b[39m os\u001b[38;5;241m.\u001b[39mpath\u001b[38;5;241m.\u001b[39mjoin(train_dir, \u001b[38;5;124m'\u001b[39m\u001b[38;5;124mhealthy\u001b[39m\u001b[38;5;124m'\u001b[39m)\n\u001b[0;32m      2\u001b[0m os\u001b[38;5;241m.\u001b[39mmkdir(train_healthy_dir)\n\u001b[0;32m      3\u001b[0m train_Cercospora_dir \u001b[38;5;241m=\u001b[39m os\u001b[38;5;241m.\u001b[39mpath\u001b[38;5;241m.\u001b[39mjoin(train_dir, \u001b[38;5;124m'\u001b[39m\u001b[38;5;124mCercospora\u001b[39m\u001b[38;5;124m'\u001b[39m)\n",
      "\u001b[1;31mNameError\u001b[0m: name 'train_dir' is not defined"
     ]
    }
   ],
   "source": [
    "train_healthy_dir = os.path.join(train_dir, 'healthy')\n",
    "os.mkdir(train_healthy_dir)\n",
    "train_Cercospora_dir = os.path.join(train_dir, 'Cercospora')\n",
    "os.mkdir(train_Cercospora_dir)\n",
    "train_common_rust_dir = os.path.join(train_dir, 'common_rust')\n",
    "os.mkdir(train_common_rust_dir)\n",
    "train_northern_leaf_blight_dir = os.path.join(train_dir, 'northern_leaf_blight')\n",
    "os.mkdir(train_northern_leaf_blight_dir)\n",
    "\n",
    "validation_healthy_dir = os.path.join(validation_dir, 'healthy')\n",
    "os.mkdir(validation_healthy_dir)\n",
    "validation_Cercospora_dir = os.path.join(validation_dir, 'Cercospora')\n",
    "os.mkdir(validation_Cercospora_dir)\n",
    "validation_common_rust_dir = os.path.join(validation_dir, 'common_rust')\n",
    "os.mkdir(validation_common_rust_dir)\n",
    "validation_northern_leaf_blight_dir = os.path.join(validation_dir, 'northern_leaf_blight')\n",
    "os.mkdir(validation_northern_leaf_blight_dir)\n",
    "\n",
    "test_healthy_dir = os.path.join(test_dir, 'healthy')\n",
    "os.mkdir(test_healthy_dir)\n",
    "test_Cercospora_dir = os.path.join(test_dir, 'Cercospora')\n",
    "os.mkdir(test_Cercospora_dir)\n",
    "test_common_rust_dir = os.path.join(test_dir, 'common_rust')\n",
    "os.mkdir(test_common_rust_dir)\n",
    "test_northern_leaf_blight_dir = os.path.join(test_dir, 'northern_leaf_blight')\n",
    "os.mkdir(test_northern_leaf_blight_dir)"
   ]
  },
  {
   "cell_type": "code",
   "execution_count": null,
   "id": "a7b42078",
   "metadata": {},
   "outputs": [],
   "source": [
    "src_healthy_path = os.path.join(original_dataset_dir, 'Corn_(maize)___healthy')\n",
    "src_list = os.listdir(src_healthy_path)\n",
    "fnames = ['healthy.{}.jpg'.format(i) for i in range(400)]\n",
    "for i in range(400):\n",
    "    src = os.path.join(src_healthy_path, src_list[i])\n",
    "    dst = os.path.join(train_healthy_dir, fnames[i])\n",
    "    shutil.copyfile(src, dst)"
   ]
  },
  {
   "cell_type": "code",
   "execution_count": null,
   "id": "a548b2d0",
   "metadata": {},
   "outputs": [],
   "source": [
    "src_healthy_path = os.path.join(original_dataset_dir, 'Corn_(maize)___healthy')\n",
    "src_list = os.listdir(src_healthy_path)\n",
    "fnames = ['healthy.{}.jpg'.format(i) for i in range(400)]\n",
    "for i in range(400):\n",
    "    src = os.path.join(src_healthy_path, src_list[i])\n",
    "    dst = os.path.join(train_healthy_dir, fnames[i])\n",
    "    shutil.copyfile(src, dst)\n",
    "\n",
    "src_Cercospora_path = os.path.join(original_dataset_dir, 'Corn_(maize)___Cercospora_leaf_spot Gray_leaf_spot')\n",
    "src_list = os.listdir(src_Cercospora_path)\n",
    "fnames = ['Cercospora.{}.jpg'.format(i) for i in range(400)]\n",
    "for i in range(400):\n",
    "    src = os.path.join(src_Cercospora_path, src_list[i])\n",
    "    dst = os.path.join(train_Cercospora_dir, fnames[i])\n",
    "    shutil.copyfile(src, dst)\n",
    "\n",
    "src_Common_rust_path = os.path.join(original_dataset_dir, 'Corn_(maize)___Common_rust_')\n",
    "src_list = os.listdir(src_Common_rust_path)\n",
    "fnames = ['common_rust.{}.jpg'.format(i) for i in range(400)]\n",
    "for i in range(400):\n",
    "    src = os.path.join(src_Common_rust_path, src_list[i])\n",
    "    dst = os.path.join(train_common_rust_dir, fnames[i])\n",
    "    shutil.copyfile(src, dst)\n",
    "\n",
    "src_Northern_Leaf_Blight_path = os.path.join(original_dataset_dir, 'Corn_(maize)___Northern_Leaf_Blight')\n",
    "src_list = os.listdir(src_Northern_Leaf_Blight_path)\n",
    "fnames = ['Northern_Leaf_Blight.{}.jpg'.format(i) for i in range(400)]\n",
    "for i in range(400):\n",
    "    src = os.path.join(src_Northern_Leaf_Blight_path, src_list[i])\n",
    "    dst = os.path.join(train_northern_leaf_blight_dir, fnames[i])\n",
    "    shutil.copyfile(src, dst)"
   ]
  },
  {
   "cell_type": "code",
   "execution_count": null,
   "id": "42f19322",
   "metadata": {},
   "outputs": [],
   "source": [
    "src_healthy_path = os.path.join(original_dataset_dir, 'Corn_(maize)___healthy')\n",
    "src_list = os.listdir(src_healthy_path)\n",
    "fnames = ['healthy.{}.jpg'.format(i) for i in range(63)]\n",
    "for i in range(400,463):\n",
    "    src = os.path.join(src_healthy_path, src_list[i])\n",
    "    dst = os.path.join(validation_healthy_dir, fnames[i-400])\n",
    "    shutil.copyfile(src, dst)\n",
    "\n",
    "src_Cercospora_path = os.path.join(original_dataset_dir, 'Corn_(maize)___Cercospora_leaf_spot Gray_leaf_spot')\n",
    "src_list = os.listdir(src_Cercospora_path)\n",
    "fnames = ['Cercospora.{}.jpg'.format(i) for i in range(63)]\n",
    "for i in range(400,463):\n",
    "    src = os.path.join(src_Cercospora_path, src_list[i])\n",
    "    dst = os.path.join(validation_Cercospora_dir, fnames[i-400])\n",
    "    shutil.copyfile(src, dst)\n",
    "\n",
    "src_Common_rust_path = os.path.join(original_dataset_dir, 'Corn_(maize)___Common_rust_')\n",
    "src_list = os.listdir(src_Common_rust_path)\n",
    "fnames = ['common_rust.{}.jpg'.format(i) for i in range(63)]\n",
    "for i in range(400,463):\n",
    "    src = os.path.join(src_Common_rust_path, src_list[i])\n",
    "    dst = os.path.join(validation_common_rust_dir, fnames[i-400])\n",
    "    shutil.copyfile(src, dst)\n",
    "\n",
    "src_Northern_Leaf_Blight_path = os.path.join(original_dataset_dir, 'Corn_(maize)___Northern_Leaf_Blight')\n",
    "src_list = os.listdir(src_Northern_Leaf_Blight_path)\n",
    "fnames = ['Northern_Leaf_Blight.{}.jpg'.format(i) for i in range(63)]\n",
    "for i in range(400,463):\n",
    "    src = os.path.join(src_Northern_Leaf_Blight_path, src_list[i])\n",
    "    dst = os.path.join(validation_northern_leaf_blight_dir, fnames[i-400])\n",
    "    shutil.copyfile(src, dst)"
   ]
  },
  {
   "cell_type": "markdown",
   "id": "970dbc45",
   "metadata": {},
   "source": [
    "# Test"
   ]
  },
  {
   "cell_type": "code",
   "execution_count": null,
   "id": "b37e8c65",
   "metadata": {},
   "outputs": [],
   "source": [
    "src_healthy_path = os.path.join(original_dataset_dir, 'Corn_(maize)___healthy')\n",
    "src_list = os.listdir(src_healthy_path)\n",
    "fnames = ['healthy.{}.jpg'.format(i) for i in range(50)]\n",
    "for i in range(463,513):\n",
    "    src = os.path.join(src_healthy_path, src_list[i])\n",
    "    dst = os.path.join(test_healthy_dir, fnames[i-463])\n",
    "    shutil.copyfile(src, dst)\n",
    "\n",
    "src_Cercospora_path = os.path.join(original_dataset_dir, 'Corn_(maize)___Cercospora_leaf_spot Gray_leaf_spot')\n",
    "src_list = os.listdir(src_Cercospora_path)\n",
    "fnames = ['Cercospora.{}.jpg'.format(i) for i in range(50)]\n",
    "for i in range(463,513):\n",
    "    src = os.path.join(src_Cercospora_path, src_list[i])\n",
    "    dst = os.path.join(test_Cercospora_dir, fnames[i-463])\n",
    "    shutil.copyfile(src, dst)\n",
    "\n",
    "src_Common_rust_path = os.path.join(original_dataset_dir, 'Corn_(maize)___Common_rust_')\n",
    "src_list = os.listdir(src_Common_rust_path)\n",
    "fnames = ['common_rust.{}.jpg'.format(i) for i in range(50)]\n",
    "for i in range(463,513):\n",
    "    src = os.path.join(src_Common_rust_path, src_list[i])\n",
    "    dst = os.path.join(test_common_rust_dir, fnames[i-463])\n",
    "    shutil.copyfile(src, dst)\n",
    "\n",
    "src_Northern_Leaf_Blight_path = os.path.join(original_dataset_dir, 'Corn_(maize)___Northern_Leaf_Blight')\n",
    "src_list = os.listdir(src_Northern_Leaf_Blight_path)\n",
    "fnames = ['Northern_Leaf_Blight.{}.jpg'.format(i) for i in range(50)]\n",
    "for i in range(463,513):\n",
    "    src = os.path.join(src_Northern_Leaf_Blight_path, src_list[i])\n",
    "    dst = os.path.join(test_northern_leaf_blight_dir, fnames[i-463])\n",
    "    shutil.copyfile(src, dst)"
   ]
  },
  {
   "cell_type": "code",
   "execution_count": null,
   "id": "591baa60",
   "metadata": {},
   "outputs": [],
   "source": []
  },
  {
   "cell_type": "code",
   "execution_count": null,
   "id": "bcaee355-5efd-426f-b8f4-68fef4e5f3b2",
   "metadata": {},
   "outputs": [],
   "source": []
  },
  {
   "cell_type": "code",
   "execution_count": null,
   "id": "a8f98470-d0b0-46ed-b769-165819efc66b",
   "metadata": {},
   "outputs": [],
   "source": []
  },
  {
   "cell_type": "code",
   "execution_count": null,
   "id": "12216f38-8770-4bc0-9171-3c2aa34c1649",
   "metadata": {},
   "outputs": [],
   "source": []
  }
 ],
 "metadata": {
  "kernelspec": {
   "display_name": "Python 3 (ipykernel)",
   "language": "python",
   "name": "python3"
  },
  "language_info": {
   "codemirror_mode": {
    "name": "ipython",
    "version": 3
   },
   "file_extension": ".py",
   "mimetype": "text/x-python",
   "name": "python",
   "nbconvert_exporter": "python",
   "pygments_lexer": "ipython3",
   "version": "3.12.7"
  }
 },
 "nbformat": 4,
 "nbformat_minor": 5
}
